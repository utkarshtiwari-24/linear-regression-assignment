{
 "cells": [
  {
   "cell_type": "code",
   "execution_count": 131,
   "metadata": {},
   "outputs": [],
   "source": [
    "import pandas as pd\n",
    "from sklearn.model_selection import train_test_split\n",
    "from sklearn.linear_model import LinearRegression\n",
    "from sklearn.tree import DecisionTreeRegressor\n",
    "from sklearn.ensemble import RandomForestRegressor\n",
    "from sklearn.metrics import r2_score\n",
    "import seaborn as sns"
   ]
  },
  {
   "cell_type": "code",
   "execution_count": 132,
   "metadata": {},
   "outputs": [],
   "source": [
    "data = pd.read_csv('day.csv')"
   ]
  },
  {
   "cell_type": "code",
   "execution_count": 133,
   "metadata": {},
   "outputs": [
    {
     "data": {
      "text/html": [
       "<div>\n",
       "<style scoped>\n",
       "    .dataframe tbody tr th:only-of-type {\n",
       "        vertical-align: middle;\n",
       "    }\n",
       "\n",
       "    .dataframe tbody tr th {\n",
       "        vertical-align: top;\n",
       "    }\n",
       "\n",
       "    .dataframe thead th {\n",
       "        text-align: right;\n",
       "    }\n",
       "</style>\n",
       "<table border=\"1\" class=\"dataframe\">\n",
       "  <thead>\n",
       "    <tr style=\"text-align: right;\">\n",
       "      <th></th>\n",
       "      <th>instant</th>\n",
       "      <th>dteday</th>\n",
       "      <th>season</th>\n",
       "      <th>yr</th>\n",
       "      <th>mnth</th>\n",
       "      <th>holiday</th>\n",
       "      <th>weekday</th>\n",
       "      <th>workingday</th>\n",
       "      <th>weathersit</th>\n",
       "      <th>temp</th>\n",
       "      <th>atemp</th>\n",
       "      <th>hum</th>\n",
       "      <th>windspeed</th>\n",
       "      <th>casual</th>\n",
       "      <th>registered</th>\n",
       "      <th>cnt</th>\n",
       "    </tr>\n",
       "  </thead>\n",
       "  <tbody>\n",
       "    <tr>\n",
       "      <th>0</th>\n",
       "      <td>1</td>\n",
       "      <td>01-01-2018</td>\n",
       "      <td>1</td>\n",
       "      <td>0</td>\n",
       "      <td>1</td>\n",
       "      <td>0</td>\n",
       "      <td>6</td>\n",
       "      <td>0</td>\n",
       "      <td>2</td>\n",
       "      <td>14.110847</td>\n",
       "      <td>18.18125</td>\n",
       "      <td>80.5833</td>\n",
       "      <td>10.749882</td>\n",
       "      <td>331</td>\n",
       "      <td>654</td>\n",
       "      <td>985</td>\n",
       "    </tr>\n",
       "    <tr>\n",
       "      <th>1</th>\n",
       "      <td>2</td>\n",
       "      <td>02-01-2018</td>\n",
       "      <td>1</td>\n",
       "      <td>0</td>\n",
       "      <td>1</td>\n",
       "      <td>0</td>\n",
       "      <td>0</td>\n",
       "      <td>0</td>\n",
       "      <td>2</td>\n",
       "      <td>14.902598</td>\n",
       "      <td>17.68695</td>\n",
       "      <td>69.6087</td>\n",
       "      <td>16.652113</td>\n",
       "      <td>131</td>\n",
       "      <td>670</td>\n",
       "      <td>801</td>\n",
       "    </tr>\n",
       "    <tr>\n",
       "      <th>2</th>\n",
       "      <td>3</td>\n",
       "      <td>03-01-2018</td>\n",
       "      <td>1</td>\n",
       "      <td>0</td>\n",
       "      <td>1</td>\n",
       "      <td>0</td>\n",
       "      <td>1</td>\n",
       "      <td>1</td>\n",
       "      <td>1</td>\n",
       "      <td>8.050924</td>\n",
       "      <td>9.47025</td>\n",
       "      <td>43.7273</td>\n",
       "      <td>16.636703</td>\n",
       "      <td>120</td>\n",
       "      <td>1229</td>\n",
       "      <td>1349</td>\n",
       "    </tr>\n",
       "    <tr>\n",
       "      <th>3</th>\n",
       "      <td>4</td>\n",
       "      <td>04-01-2018</td>\n",
       "      <td>1</td>\n",
       "      <td>0</td>\n",
       "      <td>1</td>\n",
       "      <td>0</td>\n",
       "      <td>2</td>\n",
       "      <td>1</td>\n",
       "      <td>1</td>\n",
       "      <td>8.200000</td>\n",
       "      <td>10.60610</td>\n",
       "      <td>59.0435</td>\n",
       "      <td>10.739832</td>\n",
       "      <td>108</td>\n",
       "      <td>1454</td>\n",
       "      <td>1562</td>\n",
       "    </tr>\n",
       "    <tr>\n",
       "      <th>4</th>\n",
       "      <td>5</td>\n",
       "      <td>05-01-2018</td>\n",
       "      <td>1</td>\n",
       "      <td>0</td>\n",
       "      <td>1</td>\n",
       "      <td>0</td>\n",
       "      <td>3</td>\n",
       "      <td>1</td>\n",
       "      <td>1</td>\n",
       "      <td>9.305237</td>\n",
       "      <td>11.46350</td>\n",
       "      <td>43.6957</td>\n",
       "      <td>12.522300</td>\n",
       "      <td>82</td>\n",
       "      <td>1518</td>\n",
       "      <td>1600</td>\n",
       "    </tr>\n",
       "  </tbody>\n",
       "</table>\n",
       "</div>"
      ],
      "text/plain": [
       "   instant      dteday  season  yr  mnth  holiday  weekday  workingday  \\\n",
       "0        1  01-01-2018       1   0     1        0        6           0   \n",
       "1        2  02-01-2018       1   0     1        0        0           0   \n",
       "2        3  03-01-2018       1   0     1        0        1           1   \n",
       "3        4  04-01-2018       1   0     1        0        2           1   \n",
       "4        5  05-01-2018       1   0     1        0        3           1   \n",
       "\n",
       "   weathersit       temp     atemp      hum  windspeed  casual  registered  \\\n",
       "0           2  14.110847  18.18125  80.5833  10.749882     331         654   \n",
       "1           2  14.902598  17.68695  69.6087  16.652113     131         670   \n",
       "2           1   8.050924   9.47025  43.7273  16.636703     120        1229   \n",
       "3           1   8.200000  10.60610  59.0435  10.739832     108        1454   \n",
       "4           1   9.305237  11.46350  43.6957  12.522300      82        1518   \n",
       "\n",
       "    cnt  \n",
       "0   985  \n",
       "1   801  \n",
       "2  1349  \n",
       "3  1562  \n",
       "4  1600  "
      ]
     },
     "execution_count": 133,
     "metadata": {},
     "output_type": "execute_result"
    }
   ],
   "source": [
    "data.head()"
   ]
  },
  {
   "cell_type": "code",
   "execution_count": 134,
   "metadata": {},
   "outputs": [
    {
     "data": {
      "text/plain": [
       "instant       0\n",
       "dteday        0\n",
       "season        0\n",
       "yr            0\n",
       "mnth          0\n",
       "holiday       0\n",
       "weekday       0\n",
       "workingday    0\n",
       "weathersit    0\n",
       "temp          0\n",
       "atemp         0\n",
       "hum           0\n",
       "windspeed     0\n",
       "casual        0\n",
       "registered    0\n",
       "cnt           0\n",
       "dtype: int64"
      ]
     },
     "execution_count": 134,
     "metadata": {},
     "output_type": "execute_result"
    }
   ],
   "source": [
    "#No null or missing values in the columns\n",
    "data.isna().sum()"
   ]
  },
  {
   "cell_type": "code",
   "execution_count": 155,
   "metadata": {},
   "outputs": [
    {
     "data": {
      "text/plain": [
       "<seaborn.axisgrid.PairGrid at 0x7faf3027a810>"
      ]
     },
     "execution_count": 155,
     "metadata": {},
     "output_type": "execute_result"
    },
    {
     "data": {
      "image/png": "[encoded data removed]",
      "text/plain": [
       "<Figure size 720x180 with 4 Axes>"
      ]
     },
     "metadata": {
      "needs_background": "light"
     },
     "output_type": "display_data"
    }
   ],
   "source": [
    "#columns - temp and atemp is indicating a linear plot while windspeed and hum doesn't but still we will keep them just in case our model finds some insights\n",
    "sns.pairplot(data=data,x_vars=['temp','atemp','windspeed','hum'],y_vars='cnt')"
   ]
  },
  {
   "cell_type": "code",
   "execution_count": 136,
   "metadata": {},
   "outputs": [
    {
     "data": {
      "text/html": [
       "<div>\n",
       "<style scoped>\n",
       "    .dataframe tbody tr th:only-of-type {\n",
       "        vertical-align: middle;\n",
       "    }\n",
       "\n",
       "    .dataframe tbody tr th {\n",
       "        vertical-align: top;\n",
       "    }\n",
       "\n",
       "    .dataframe thead th {\n",
       "        text-align: right;\n",
       "    }\n",
       "</style>\n",
       "<table border=\"1\" class=\"dataframe\">\n",
       "  <thead>\n",
       "    <tr style=\"text-align: right;\">\n",
       "      <th></th>\n",
       "      <th>instant</th>\n",
       "      <th>season</th>\n",
       "      <th>yr</th>\n",
       "      <th>mnth</th>\n",
       "      <th>holiday</th>\n",
       "      <th>weekday</th>\n",
       "      <th>workingday</th>\n",
       "      <th>weathersit</th>\n",
       "      <th>temp</th>\n",
       "      <th>atemp</th>\n",
       "      <th>hum</th>\n",
       "      <th>windspeed</th>\n",
       "      <th>casual</th>\n",
       "      <th>registered</th>\n",
       "      <th>cnt</th>\n",
       "    </tr>\n",
       "  </thead>\n",
       "  <tbody>\n",
       "    <tr>\n",
       "      <th>instant</th>\n",
       "      <td>1.000000</td>\n",
       "      <td>4.135867e-01</td>\n",
       "      <td>8.660262e-01</td>\n",
       "      <td>4.982507e-01</td>\n",
       "      <td>0.016275</td>\n",
       "      <td>-0.000023</td>\n",
       "      <td>-0.004619</td>\n",
       "      <td>-0.021862</td>\n",
       "      <td>0.150738</td>\n",
       "      <td>0.152773</td>\n",
       "      <td>0.016080</td>\n",
       "      <td>-0.112667</td>\n",
       "      <td>0.275604</td>\n",
       "      <td>0.660544</td>\n",
       "      <td>0.629896</td>\n",
       "    </tr>\n",
       "    <tr>\n",
       "      <th>season</th>\n",
       "      <td>0.413587</td>\n",
       "      <td>1.000000e+00</td>\n",
       "      <td>-3.279074e-16</td>\n",
       "      <td>8.310321e-01</td>\n",
       "      <td>-0.010868</td>\n",
       "      <td>-0.003081</td>\n",
       "      <td>0.013762</td>\n",
       "      <td>0.021306</td>\n",
       "      <td>0.333361</td>\n",
       "      <td>0.342014</td>\n",
       "      <td>0.208220</td>\n",
       "      <td>-0.229607</td>\n",
       "      <td>0.208737</td>\n",
       "      <td>0.410310</td>\n",
       "      <td>0.404584</td>\n",
       "    </tr>\n",
       "    <tr>\n",
       "      <th>yr</th>\n",
       "      <td>0.866026</td>\n",
       "      <td>-3.279074e-16</td>\n",
       "      <td>1.000000e+00</td>\n",
       "      <td>-5.162656e-16</td>\n",
       "      <td>0.008195</td>\n",
       "      <td>-0.005466</td>\n",
       "      <td>-0.002945</td>\n",
       "      <td>-0.050322</td>\n",
       "      <td>0.048789</td>\n",
       "      <td>0.047215</td>\n",
       "      <td>-0.112547</td>\n",
       "      <td>-0.011624</td>\n",
       "      <td>0.250502</td>\n",
       "      <td>0.596911</td>\n",
       "      <td>0.569728</td>\n",
       "    </tr>\n",
       "    <tr>\n",
       "      <th>mnth</th>\n",
       "      <td>0.498251</td>\n",
       "      <td>8.310321e-01</td>\n",
       "      <td>-5.162656e-16</td>\n",
       "      <td>1.000000e+00</td>\n",
       "      <td>0.018905</td>\n",
       "      <td>0.009523</td>\n",
       "      <td>-0.004688</td>\n",
       "      <td>0.045613</td>\n",
       "      <td>0.219083</td>\n",
       "      <td>0.226430</td>\n",
       "      <td>0.224937</td>\n",
       "      <td>-0.208013</td>\n",
       "      <td>0.121208</td>\n",
       "      <td>0.291952</td>\n",
       "      <td>0.278191</td>\n",
       "    </tr>\n",
       "    <tr>\n",
       "      <th>holiday</th>\n",
       "      <td>0.016275</td>\n",
       "      <td>-1.086804e-02</td>\n",
       "      <td>8.195345e-03</td>\n",
       "      <td>1.890483e-02</td>\n",
       "      <td>1.000000</td>\n",
       "      <td>-0.101962</td>\n",
       "      <td>-0.252948</td>\n",
       "      <td>-0.034395</td>\n",
       "      <td>-0.028764</td>\n",
       "      <td>-0.032703</td>\n",
       "      <td>-0.015662</td>\n",
       "      <td>0.006257</td>\n",
       "      <td>0.054055</td>\n",
       "      <td>-0.109142</td>\n",
       "      <td>-0.068764</td>\n",
       "    </tr>\n",
       "    <tr>\n",
       "      <th>weekday</th>\n",
       "      <td>-0.000023</td>\n",
       "      <td>-3.081198e-03</td>\n",
       "      <td>-5.466369e-03</td>\n",
       "      <td>9.522969e-03</td>\n",
       "      <td>-0.101962</td>\n",
       "      <td>1.000000</td>\n",
       "      <td>0.035800</td>\n",
       "      <td>0.031112</td>\n",
       "      <td>-0.000168</td>\n",
       "      <td>-0.007539</td>\n",
       "      <td>-0.052290</td>\n",
       "      <td>0.014283</td>\n",
       "      <td>0.059978</td>\n",
       "      <td>0.057427</td>\n",
       "      <td>0.067534</td>\n",
       "    </tr>\n",
       "    <tr>\n",
       "      <th>workingday</th>\n",
       "      <td>-0.004619</td>\n",
       "      <td>1.376178e-02</td>\n",
       "      <td>-2.945396e-03</td>\n",
       "      <td>-4.687953e-03</td>\n",
       "      <td>-0.252948</td>\n",
       "      <td>0.035800</td>\n",
       "      <td>1.000000</td>\n",
       "      <td>0.060236</td>\n",
       "      <td>0.053470</td>\n",
       "      <td>0.052940</td>\n",
       "      <td>0.023202</td>\n",
       "      <td>-0.018666</td>\n",
       "      <td>-0.517607</td>\n",
       "      <td>0.305437</td>\n",
       "      <td>0.062542</td>\n",
       "    </tr>\n",
       "    <tr>\n",
       "      <th>weathersit</th>\n",
       "      <td>-0.021862</td>\n",
       "      <td>2.130636e-02</td>\n",
       "      <td>-5.032247e-02</td>\n",
       "      <td>4.561335e-02</td>\n",
       "      <td>-0.034395</td>\n",
       "      <td>0.031112</td>\n",
       "      <td>0.060236</td>\n",
       "      <td>1.000000</td>\n",
       "      <td>-0.119503</td>\n",
       "      <td>-0.120559</td>\n",
       "      <td>0.590277</td>\n",
       "      <td>0.039769</td>\n",
       "      <td>-0.246044</td>\n",
       "      <td>-0.259025</td>\n",
       "      <td>-0.295929</td>\n",
       "    </tr>\n",
       "    <tr>\n",
       "      <th>temp</th>\n",
       "      <td>0.150738</td>\n",
       "      <td>3.333607e-01</td>\n",
       "      <td>4.878919e-02</td>\n",
       "      <td>2.190833e-01</td>\n",
       "      <td>-0.028764</td>\n",
       "      <td>-0.000168</td>\n",
       "      <td>0.053470</td>\n",
       "      <td>-0.119503</td>\n",
       "      <td>1.000000</td>\n",
       "      <td>0.991696</td>\n",
       "      <td>0.128565</td>\n",
       "      <td>-0.158186</td>\n",
       "      <td>0.542731</td>\n",
       "      <td>0.539436</td>\n",
       "      <td>0.627044</td>\n",
       "    </tr>\n",
       "    <tr>\n",
       "      <th>atemp</th>\n",
       "      <td>0.152773</td>\n",
       "      <td>3.420139e-01</td>\n",
       "      <td>4.721519e-02</td>\n",
       "      <td>2.264302e-01</td>\n",
       "      <td>-0.032703</td>\n",
       "      <td>-0.007539</td>\n",
       "      <td>0.052940</td>\n",
       "      <td>-0.120559</td>\n",
       "      <td>0.991696</td>\n",
       "      <td>1.000000</td>\n",
       "      <td>0.141512</td>\n",
       "      <td>-0.183876</td>\n",
       "      <td>0.543362</td>\n",
       "      <td>0.543678</td>\n",
       "      <td>0.630685</td>\n",
       "    </tr>\n",
       "    <tr>\n",
       "      <th>hum</th>\n",
       "      <td>0.016080</td>\n",
       "      <td>2.082196e-01</td>\n",
       "      <td>-1.125471e-01</td>\n",
       "      <td>2.249368e-01</td>\n",
       "      <td>-0.015662</td>\n",
       "      <td>-0.052290</td>\n",
       "      <td>0.023202</td>\n",
       "      <td>0.590277</td>\n",
       "      <td>0.128565</td>\n",
       "      <td>0.141512</td>\n",
       "      <td>1.000000</td>\n",
       "      <td>-0.248506</td>\n",
       "      <td>-0.075211</td>\n",
       "      <td>-0.089212</td>\n",
       "      <td>-0.098543</td>\n",
       "    </tr>\n",
       "    <tr>\n",
       "      <th>windspeed</th>\n",
       "      <td>-0.112667</td>\n",
       "      <td>-2.296069e-01</td>\n",
       "      <td>-1.162435e-02</td>\n",
       "      <td>-2.080131e-01</td>\n",
       "      <td>0.006257</td>\n",
       "      <td>0.014283</td>\n",
       "      <td>-0.018666</td>\n",
       "      <td>0.039769</td>\n",
       "      <td>-0.158186</td>\n",
       "      <td>-0.183876</td>\n",
       "      <td>-0.248506</td>\n",
       "      <td>1.000000</td>\n",
       "      <td>-0.167995</td>\n",
       "      <td>-0.217914</td>\n",
       "      <td>-0.235132</td>\n",
       "    </tr>\n",
       "    <tr>\n",
       "      <th>casual</th>\n",
       "      <td>0.275604</td>\n",
       "      <td>2.087373e-01</td>\n",
       "      <td>2.505017e-01</td>\n",
       "      <td>1.212079e-01</td>\n",
       "      <td>0.054055</td>\n",
       "      <td>0.059978</td>\n",
       "      <td>-0.517607</td>\n",
       "      <td>-0.246044</td>\n",
       "      <td>0.542731</td>\n",
       "      <td>0.543362</td>\n",
       "      <td>-0.075211</td>\n",
       "      <td>-0.167995</td>\n",
       "      <td>1.000000</td>\n",
       "      <td>0.394137</td>\n",
       "      <td>0.672123</td>\n",
       "    </tr>\n",
       "    <tr>\n",
       "      <th>registered</th>\n",
       "      <td>0.660544</td>\n",
       "      <td>4.103102e-01</td>\n",
       "      <td>5.969106e-01</td>\n",
       "      <td>2.919516e-01</td>\n",
       "      <td>-0.109142</td>\n",
       "      <td>0.057427</td>\n",
       "      <td>0.305437</td>\n",
       "      <td>-0.259025</td>\n",
       "      <td>0.539436</td>\n",
       "      <td>0.543678</td>\n",
       "      <td>-0.089212</td>\n",
       "      <td>-0.217914</td>\n",
       "      <td>0.394137</td>\n",
       "      <td>1.000000</td>\n",
       "      <td>0.945411</td>\n",
       "    </tr>\n",
       "    <tr>\n",
       "      <th>cnt</th>\n",
       "      <td>0.629896</td>\n",
       "      <td>4.045838e-01</td>\n",
       "      <td>5.697285e-01</td>\n",
       "      <td>2.781909e-01</td>\n",
       "      <td>-0.068764</td>\n",
       "      <td>0.067534</td>\n",
       "      <td>0.062542</td>\n",
       "      <td>-0.295929</td>\n",
       "      <td>0.627044</td>\n",
       "      <td>0.630685</td>\n",
       "      <td>-0.098543</td>\n",
       "      <td>-0.235132</td>\n",
       "      <td>0.672123</td>\n",
       "      <td>0.945411</td>\n",
       "      <td>1.000000</td>\n",
       "    </tr>\n",
       "  </tbody>\n",
       "</table>\n",
       "</div>"
      ],
      "text/plain": [
       "             instant        season            yr          mnth   holiday  \\\n",
       "instant     1.000000  4.135867e-01  8.660262e-01  4.982507e-01  0.016275   \n",
       "season      0.413587  1.000000e+00 -3.279074e-16  8.310321e-01 -0.010868   \n",
       "yr          0.866026 -3.279074e-16  1.000000e+00 -5.162656e-16  0.008195   \n",
       "mnth        0.498251  8.310321e-01 -5.162656e-16  1.000000e+00  0.018905   \n",
       "holiday     0.016275 -1.086804e-02  8.195345e-03  1.890483e-02  1.000000   \n",
       "weekday    -0.000023 -3.081198e-03 -5.466369e-03  9.522969e-03 -0.101962   \n",
       "workingday -0.004619  1.376178e-02 -2.945396e-03 -4.687953e-03 -0.252948   \n",
       "weathersit -0.021862  2.130636e-02 -5.032247e-02  4.561335e-02 -0.034395   \n",
       "temp        0.150738  3.333607e-01  4.878919e-02  2.190833e-01 -0.028764   \n",
       "atemp       0.152773  3.420139e-01  4.721519e-02  2.264302e-01 -0.032703   \n",
       "hum         0.016080  2.082196e-01 -1.125471e-01  2.249368e-01 -0.015662   \n",
       "windspeed  -0.112667 -2.296069e-01 -1.162435e-02 -2.080131e-01  0.006257   \n",
       "casual      0.275604  2.087373e-01  2.505017e-01  1.212079e-01  0.054055   \n",
       "registered  0.660544  4.103102e-01  5.969106e-01  2.919516e-01 -0.109142   \n",
       "cnt         0.629896  4.045838e-01  5.697285e-01  2.781909e-01 -0.068764   \n",
       "\n",
       "             weekday  workingday  weathersit      temp     atemp       hum  \\\n",
       "instant    -0.000023   -0.004619   -0.021862  0.150738  0.152773  0.016080   \n",
       "season     -0.003081    0.013762    0.021306  0.333361  0.342014  0.208220   \n",
       "yr         -0.005466   -0.002945   -0.050322  0.048789  0.047215 -0.112547   \n",
       "mnth        0.009523   -0.004688    0.045613  0.219083  0.226430  0.224937   \n",
       "holiday    -0.101962   -0.252948   -0.034395 -0.028764 -0.032703 -0.015662   \n",
       "weekday     1.000000    0.035800    0.031112 -0.000168 -0.007539 -0.052290   \n",
       "workingday  0.035800    1.000000    0.060236  0.053470  0.052940  0.023202   \n",
       "weathersit  0.031112    0.060236    1.000000 -0.119503 -0.120559  0.590277   \n",
       "temp       -0.000168    0.053470   -0.119503  1.000000  0.991696  0.128565   \n",
       "atemp      -0.007539    0.052940   -0.120559  0.991696  1.000000  0.141512   \n",
       "hum        -0.052290    0.023202    0.590277  0.128565  0.141512  1.000000   \n",
       "windspeed   0.014283   -0.018666    0.039769 -0.158186 -0.183876 -0.248506   \n",
       "casual      0.059978   -0.517607   -0.246044  0.542731  0.543362 -0.075211   \n",
       "registered  0.057427    0.305437   -0.259025  0.539436  0.543678 -0.089212   \n",
       "cnt         0.067534    0.062542   -0.295929  0.627044  0.630685 -0.098543   \n",
       "\n",
       "            windspeed    casual  registered       cnt  \n",
       "instant     -0.112667  0.275604    0.660544  0.629896  \n",
       "season      -0.229607  0.208737    0.410310  0.404584  \n",
       "yr          -0.011624  0.250502    0.596911  0.569728  \n",
       "mnth        -0.208013  0.121208    0.291952  0.278191  \n",
       "holiday      0.006257  0.054055   -0.109142 -0.068764  \n",
       "weekday      0.014283  0.059978    0.057427  0.067534  \n",
       "workingday  -0.018666 -0.517607    0.305437  0.062542  \n",
       "weathersit   0.039769 -0.246044   -0.259025 -0.295929  \n",
       "temp        -0.158186  0.542731    0.539436  0.627044  \n",
       "atemp       -0.183876  0.543362    0.543678  0.630685  \n",
       "hum         -0.248506 -0.075211   -0.089212 -0.098543  \n",
       "windspeed    1.000000 -0.167995   -0.217914 -0.235132  \n",
       "casual      -0.167995  1.000000    0.394137  0.672123  \n",
       "registered  -0.217914  0.394137    1.000000  0.945411  \n",
       "cnt         -0.235132  0.672123    0.945411  1.000000  "
      ]
     },
     "execution_count": 136,
     "metadata": {},
     "output_type": "execute_result"
    }
   ],
   "source": [
    "#correlation of all the dependent cts variables with the target - cnt\n",
    "data.corr()"
   ]
  },
  {
   "cell_type": "code",
   "execution_count": 137,
   "metadata": {},
   "outputs": [
    {
     "data": {
      "text/plain": [
       "(730, 16)"
      ]
     },
     "execution_count": 137,
     "metadata": {},
     "output_type": "execute_result"
    }
   ],
   "source": [
    "data.shape"
   ]
  },
  {
   "cell_type": "code",
   "execution_count": 138,
   "metadata": {},
   "outputs": [
    {
     "data": {
      "text/plain": [
       "season\n",
       "1    2608.411111\n",
       "2    4992.331522\n",
       "3    5644.303191\n",
       "4    4728.162921\n",
       "Name: cnt, dtype: float64"
      ]
     },
     "execution_count": 138,
     "metadata": {},
     "output_type": "execute_result"
    }
   ],
   "source": [
    "#Spring season has the least average number of rental bikes taken while Fall has the highest average\n",
    "data.groupby('season')['cnt'].mean()"
   ]
  },
  {
   "cell_type": "code",
   "execution_count": 139,
   "metadata": {},
   "outputs": [
    {
     "data": {
      "text/plain": [
       "yr\n",
       "0    3405.761644\n",
       "1    5610.252055\n",
       "Name: cnt, dtype: float64"
      ]
     },
     "execution_count": 139,
     "metadata": {},
     "output_type": "execute_result"
    }
   ],
   "source": [
    "#2019 has significantly more number of people using rental bikes\n",
    "data.groupby('yr')['cnt'].mean()"
   ]
  },
  {
   "cell_type": "code",
   "execution_count": 140,
   "metadata": {},
   "outputs": [
    {
     "data": {
      "text/plain": [
       "mnth\n",
       "1     2176.338710\n",
       "2     2669.964286\n",
       "3     3692.258065\n",
       "4     4484.900000\n",
       "5     5349.774194\n",
       "6     5772.366667\n",
       "7     5563.677419\n",
       "8     5664.419355\n",
       "9     5766.516667\n",
       "10    5199.225806\n",
       "11    4247.183333\n",
       "12    3403.806452\n",
       "Name: cnt, dtype: float64"
      ]
     },
     "execution_count": 140,
     "metadata": {},
     "output_type": "execute_result"
    }
   ],
   "source": [
    "#May-October seems to be the peak season for rental bikes which might be due to the pleasant weather at that time of the month\n",
    "data.groupby('mnth')['cnt'].mean()"
   ]
  },
  {
   "cell_type": "code",
   "execution_count": 141,
   "metadata": {},
   "outputs": [
    {
     "data": {
      "text/plain": [
       "weekday\n",
       "0    4228.828571\n",
       "1    4338.123810\n",
       "2    4510.663462\n",
       "3    4574.893204\n",
       "4    4667.259615\n",
       "5    4690.288462\n",
       "6    4550.542857\n",
       "Name: cnt, dtype: float64"
      ]
     },
     "execution_count": 141,
     "metadata": {},
     "output_type": "execute_result"
    }
   ],
   "source": [
    "#Most of the days has simialr number. Day 0,1 is slightly lesser than the rest of the days\n",
    "data.groupby('weekday')['cnt'].mean()"
   ]
  },
  {
   "cell_type": "code",
   "execution_count": 142,
   "metadata": {},
   "outputs": [
    {
     "data": {
      "text/plain": [
       "weathersit\n",
       "1    4876.786177\n",
       "2    4044.813008\n",
       "3    1803.285714\n",
       "Name: cnt, dtype: float64"
      ]
     },
     "execution_count": 142,
     "metadata": {},
     "output_type": "execute_result"
    }
   ],
   "source": [
    "#Clear weather has more number of people renting bikes while if there is light snow or rain, lesser people prefer rental bikes\n",
    "data.groupby('weathersit')['cnt'].mean()"
   ]
  },
  {
   "cell_type": "code",
   "execution_count": 143,
   "metadata": {},
   "outputs": [
    {
     "data": {
      "text/plain": [
       "holiday\n",
       "0    4530.90268\n",
       "1    3735.00000\n",
       "Name: cnt, dtype: float64"
      ]
     },
     "execution_count": 143,
     "metadata": {},
     "output_type": "execute_result"
    }
   ],
   "source": [
    "#People might be commuting to office during non-holidays and therefore more people rent bikes on non-holidays\n",
    "data.groupby('holiday')['cnt'].mean()"
   ]
  },
  {
   "cell_type": "code",
   "execution_count": 144,
   "metadata": {},
   "outputs": [
    {
     "data": {
      "text/plain": [
       "workingday\n",
       "0    4330.168831\n",
       "1    4590.332665\n",
       "Name: cnt, dtype: float64"
      ]
     },
     "execution_count": 144,
     "metadata": {},
     "output_type": "execute_result"
    }
   ],
   "source": [
    "#Slightly more number of people use rental bikes on working days, might be to commute to offices\n",
    "data.groupby('workingday')['cnt'].mean()"
   ]
  },
  {
   "cell_type": "code",
   "execution_count": 145,
   "metadata": {},
   "outputs": [],
   "source": [
    "#dropping columns which don't provide any significant details on the target variable\n",
    "data = data.drop(['instant','dteday'], axis = 1)"
   ]
  },
  {
   "cell_type": "code",
   "execution_count": 146,
   "metadata": {},
   "outputs": [],
   "source": [
    "#one hot encoding for categorical columns - season, yr, mnth, weekday, weathersit, workingday, holiday\n",
    "data = pd.get_dummies(data, columns = ['season','yr','mnth','weekday','weathersit','workingday','holiday'], prefix = ['season','yr','mnth','weekday','weathersit','workingday','holiday'])"
   ]
  },
  {
   "cell_type": "code",
   "execution_count": 147,
   "metadata": {},
   "outputs": [
    {
     "data": {
      "text/html": [
       "<div>\n",
       "<style scoped>\n",
       "    .dataframe tbody tr th:only-of-type {\n",
       "        vertical-align: middle;\n",
       "    }\n",
       "\n",
       "    .dataframe tbody tr th {\n",
       "        vertical-align: top;\n",
       "    }\n",
       "\n",
       "    .dataframe thead th {\n",
       "        text-align: right;\n",
       "    }\n",
       "</style>\n",
       "<table border=\"1\" class=\"dataframe\">\n",
       "  <thead>\n",
       "    <tr style=\"text-align: right;\">\n",
       "      <th></th>\n",
       "      <th>temp</th>\n",
       "      <th>atemp</th>\n",
       "      <th>hum</th>\n",
       "      <th>windspeed</th>\n",
       "      <th>casual</th>\n",
       "      <th>registered</th>\n",
       "      <th>cnt</th>\n",
       "      <th>season_1</th>\n",
       "      <th>season_2</th>\n",
       "      <th>season_3</th>\n",
       "      <th>...</th>\n",
       "      <th>weekday_4</th>\n",
       "      <th>weekday_5</th>\n",
       "      <th>weekday_6</th>\n",
       "      <th>weathersit_1</th>\n",
       "      <th>weathersit_2</th>\n",
       "      <th>weathersit_3</th>\n",
       "      <th>workingday_0</th>\n",
       "      <th>workingday_1</th>\n",
       "      <th>holiday_0</th>\n",
       "      <th>holiday_1</th>\n",
       "    </tr>\n",
       "  </thead>\n",
       "  <tbody>\n",
       "    <tr>\n",
       "      <th>0</th>\n",
       "      <td>14.110847</td>\n",
       "      <td>18.18125</td>\n",
       "      <td>80.5833</td>\n",
       "      <td>10.749882</td>\n",
       "      <td>331</td>\n",
       "      <td>654</td>\n",
       "      <td>985</td>\n",
       "      <td>1</td>\n",
       "      <td>0</td>\n",
       "      <td>0</td>\n",
       "      <td>...</td>\n",
       "      <td>0</td>\n",
       "      <td>0</td>\n",
       "      <td>1</td>\n",
       "      <td>0</td>\n",
       "      <td>1</td>\n",
       "      <td>0</td>\n",
       "      <td>1</td>\n",
       "      <td>0</td>\n",
       "      <td>1</td>\n",
       "      <td>0</td>\n",
       "    </tr>\n",
       "    <tr>\n",
       "      <th>1</th>\n",
       "      <td>14.902598</td>\n",
       "      <td>17.68695</td>\n",
       "      <td>69.6087</td>\n",
       "      <td>16.652113</td>\n",
       "      <td>131</td>\n",
       "      <td>670</td>\n",
       "      <td>801</td>\n",
       "      <td>1</td>\n",
       "      <td>0</td>\n",
       "      <td>0</td>\n",
       "      <td>...</td>\n",
       "      <td>0</td>\n",
       "      <td>0</td>\n",
       "      <td>0</td>\n",
       "      <td>0</td>\n",
       "      <td>1</td>\n",
       "      <td>0</td>\n",
       "      <td>1</td>\n",
       "      <td>0</td>\n",
       "      <td>1</td>\n",
       "      <td>0</td>\n",
       "    </tr>\n",
       "    <tr>\n",
       "      <th>2</th>\n",
       "      <td>8.050924</td>\n",
       "      <td>9.47025</td>\n",
       "      <td>43.7273</td>\n",
       "      <td>16.636703</td>\n",
       "      <td>120</td>\n",
       "      <td>1229</td>\n",
       "      <td>1349</td>\n",
       "      <td>1</td>\n",
       "      <td>0</td>\n",
       "      <td>0</td>\n",
       "      <td>...</td>\n",
       "      <td>0</td>\n",
       "      <td>0</td>\n",
       "      <td>0</td>\n",
       "      <td>1</td>\n",
       "      <td>0</td>\n",
       "      <td>0</td>\n",
       "      <td>0</td>\n",
       "      <td>1</td>\n",
       "      <td>1</td>\n",
       "      <td>0</td>\n",
       "    </tr>\n",
       "    <tr>\n",
       "      <th>3</th>\n",
       "      <td>8.200000</td>\n",
       "      <td>10.60610</td>\n",
       "      <td>59.0435</td>\n",
       "      <td>10.739832</td>\n",
       "      <td>108</td>\n",
       "      <td>1454</td>\n",
       "      <td>1562</td>\n",
       "      <td>1</td>\n",
       "      <td>0</td>\n",
       "      <td>0</td>\n",
       "      <td>...</td>\n",
       "      <td>0</td>\n",
       "      <td>0</td>\n",
       "      <td>0</td>\n",
       "      <td>1</td>\n",
       "      <td>0</td>\n",
       "      <td>0</td>\n",
       "      <td>0</td>\n",
       "      <td>1</td>\n",
       "      <td>1</td>\n",
       "      <td>0</td>\n",
       "    </tr>\n",
       "    <tr>\n",
       "      <th>4</th>\n",
       "      <td>9.305237</td>\n",
       "      <td>11.46350</td>\n",
       "      <td>43.6957</td>\n",
       "      <td>12.522300</td>\n",
       "      <td>82</td>\n",
       "      <td>1518</td>\n",
       "      <td>1600</td>\n",
       "      <td>1</td>\n",
       "      <td>0</td>\n",
       "      <td>0</td>\n",
       "      <td>...</td>\n",
       "      <td>0</td>\n",
       "      <td>0</td>\n",
       "      <td>0</td>\n",
       "      <td>1</td>\n",
       "      <td>0</td>\n",
       "      <td>0</td>\n",
       "      <td>0</td>\n",
       "      <td>1</td>\n",
       "      <td>1</td>\n",
       "      <td>0</td>\n",
       "    </tr>\n",
       "  </tbody>\n",
       "</table>\n",
       "<p>5 rows × 39 columns</p>\n",
       "</div>"
      ],
      "text/plain": [
       "        temp     atemp      hum  windspeed  casual  registered   cnt  \\\n",
       "0  14.110847  18.18125  80.5833  10.749882     331         654   985   \n",
       "1  14.902598  17.68695  69.6087  16.652113     131         670   801   \n",
       "2   8.050924   9.47025  43.7273  16.636703     120        1229  1349   \n",
       "3   8.200000  10.60610  59.0435  10.739832     108        1454  1562   \n",
       "4   9.305237  11.46350  43.6957  12.522300      82        1518  1600   \n",
       "\n",
       "   season_1  season_2  season_3  ...  weekday_4  weekday_5  weekday_6  \\\n",
       "0         1         0         0  ...          0          0          1   \n",
       "1         1         0         0  ...          0          0          0   \n",
       "2         1         0         0  ...          0          0          0   \n",
       "3         1         0         0  ...          0          0          0   \n",
       "4         1         0         0  ...          0          0          0   \n",
       "\n",
       "   weathersit_1  weathersit_2  weathersit_3  workingday_0  workingday_1  \\\n",
       "0             0             1             0             1             0   \n",
       "1             0             1             0             1             0   \n",
       "2             1             0             0             0             1   \n",
       "3             1             0             0             0             1   \n",
       "4             1             0             0             0             1   \n",
       "\n",
       "   holiday_0  holiday_1  \n",
       "0          1          0  \n",
       "1          1          0  \n",
       "2          1          0  \n",
       "3          1          0  \n",
       "4          1          0  \n",
       "\n",
       "[5 rows x 39 columns]"
      ]
     },
     "execution_count": 147,
     "metadata": {},
     "output_type": "execute_result"
    }
   ],
   "source": [
    "data.head()"
   ]
  },
  {
   "cell_type": "code",
   "execution_count": 148,
   "metadata": {},
   "outputs": [
    {
     "data": {
      "text/plain": [
       "(730, 39)"
      ]
     },
     "execution_count": 148,
     "metadata": {},
     "output_type": "execute_result"
    }
   ],
   "source": [
    "data.shape"
   ]
  },
  {
   "cell_type": "code",
   "execution_count": 149,
   "metadata": {},
   "outputs": [],
   "source": [
    "#columns - casual and registered are linearly dependent with cnt and therefore removed as these can't act as independent variables\n",
    "y = data['cnt']\n",
    "X = data.drop(['casual','registered','cnt'], axis = 1)"
   ]
  },
  {
   "cell_type": "code",
   "execution_count": 150,
   "metadata": {},
   "outputs": [],
   "source": [
    "X_train, X_test, y_train, y_test = train_test_split(X, y, test_size = 0.2, random_state = 42)"
   ]
  },
  {
   "cell_type": "code",
   "execution_count": 151,
   "metadata": {},
   "outputs": [
    {
     "data": {
      "text/plain": [
       "0.8622197210942277"
      ]
     },
     "execution_count": 151,
     "metadata": {},
     "output_type": "execute_result"
    }
   ],
   "source": [
    "#Linear Regression Model\n",
    "lin = LinearRegression()\n",
    "lin.fit(X_train, y_train)\n",
    "y_pred = lin.predict(X_test)\n",
    "r2_score(y_test, y_pred)"
   ]
  },
  {
   "cell_type": "code",
   "execution_count": 152,
   "metadata": {},
   "outputs": [
    {
     "data": {
      "text/plain": [
       "0.8278483446064118"
      ]
     },
     "execution_count": 152,
     "metadata": {},
     "output_type": "execute_result"
    }
   ],
   "source": [
    "#Decision Tree Model\n",
    "dt = DecisionTreeRegressor(random_state = 0)\n",
    "dt.fit(X_train, y_train)\n",
    "y_pred = dt.predict(X_test)\n",
    "r2_score(y_test, y_pred)"
   ]
  },
  {
   "cell_type": "code",
   "execution_count": 153,
   "metadata": {},
   "outputs": [
    {
     "name": "stderr",
     "output_type": "stream",
     "text": [
      "/opt/anaconda3/lib/python3.7/site-packages/sklearn/ensemble/base.py:158: DeprecationWarning: `np.int` is a deprecated alias for the builtin `int`. To silence this warning, use `int` by itself. Doing this will not modify any behavior and is safe. When replacing `np.int`, you may wish to use e.g. `np.int64` or `np.int32` to specify the precision. If you wish to review your current use, check the release note link for additional information.\n",
      "Deprecated in NumPy 1.20; for more details and guidance: https://numpy.org/devdocs/release/1.20.0-notes.html#deprecations\n",
      "  dtype=np.int)\n"
     ]
    },
    {
     "data": {
      "text/plain": [
       "0.9077159369329095"
      ]
     },
     "execution_count": 153,
     "metadata": {},
     "output_type": "execute_result"
    }
   ],
   "source": [
    "#Random Forest Model\n",
    "rf = RandomForestRegressor(n_estimators = 100, random_state = 0)\n",
    "rf.fit(X_train, y_train)\n",
    "y_pred = rf.predict(X_test)\n",
    "r2_score(y_test, y_pred)"
   ]
  },
  {
   "cell_type": "code",
   "execution_count": 154,
   "metadata": {},
   "outputs": [],
   "source": [
    "#Hence the Random Forest Regression model gives us the best R-Square value of 0.908"
   ]
  }
 ],
 "metadata": {
  "kernelspec": {
   "display_name": "Python 3.7.4 64-bit ('base': conda)",
   "language": "python",
   "name": "python37464bitbaseconda22ad0b230eb6477982c6f611f404cbad"
  },
  "language_info": {
   "codemirror_mode": {
    "name": "ipython",
    "version": 3
   },
   "file_extension": ".py",
   "mimetype": "text/x-python",
   "name": "python",
   "nbconvert_exporter": "python",
   "pygments_lexer": "ipython3",
   "version": "3.7.4"
  }
 },
 "nbformat": 4,
 "nbformat_minor": 4
}
